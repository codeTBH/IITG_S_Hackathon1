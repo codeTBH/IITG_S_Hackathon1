{
 "cells": [
  {
   "cell_type": "code",
   "execution_count": 1,
   "id": "da0f7cd7",
   "metadata": {
    "_cell_guid": "b1076dfc-b9ad-4769-8c92-a6c4dae69d19",
    "_uuid": "8f2839f25d086af736a60e9eeb907d3b93b6e0e5",
    "execution": {
     "iopub.execute_input": "2025-06-11T16:27:04.509198Z",
     "iopub.status.busy": "2025-06-11T16:27:04.508845Z",
     "iopub.status.idle": "2025-06-11T16:27:06.816301Z",
     "shell.execute_reply": "2025-06-11T16:27:06.814820Z"
    },
    "papermill": {
     "duration": 2.313921,
     "end_time": "2025-06-11T16:27:06.818360",
     "exception": false,
     "start_time": "2025-06-11T16:27:04.504439",
     "status": "completed"
    },
    "tags": []
   },
   "outputs": [
    {
     "name": "stdout",
     "output_type": "stream",
     "text": [
      "   Unnamed: 0  ID  class  20150720_N  20150602_N  20150517_N  20150501_N  \\\n",
      "0           0   1  water    637.5950     658.668   -1882.030    -1924.36   \n",
      "1           1   2  water    634.2400     593.705   -1625.790    -1672.32   \n",
      "2           3   4  water     58.0174   -1599.160         NaN    -1052.63   \n",
      "3           4   5  water     72.5180         NaN     380.436    -1256.93   \n",
      "4           7   8  water   1136.4400         NaN         NaN     1647.83   \n",
      "\n",
      "   20150415_N  20150330_N  20150314_N  ...  20140610_N  20140525_N  \\\n",
      "0     997.904   -1739.990     630.087  ...         NaN   -1043.160   \n",
      "1     914.198    -692.386     707.626  ...         NaN    -933.934   \n",
      "2         NaN   -1564.630         NaN  ...    -1025.88     368.622   \n",
      "3     515.805   -1413.180    -802.942  ...    -1813.95     155.624   \n",
      "4    1935.800         NaN    2158.980  ...     1535.00    1959.430   \n",
      "\n",
      "   20140509_N  20140423_N  20140407_N  20140322_N  20140218_N  20140202_N  \\\n",
      "0   -1942.490     267.138         NaN         NaN     211.328   -2203.020   \n",
      "1    -625.385     120.059     364.858     476.972     220.878   -2250.000   \n",
      "2         NaN   -1227.800     304.621         NaN     369.214   -2202.120   \n",
      "3         NaN    -924.073     432.150     282.833     298.320   -2197.360   \n",
      "4    -279.317    -384.915    -113.406    1020.720    1660.650    -116.801   \n",
      "\n",
      "   20140117_N  20140101_N  \n",
      "0    -1180.19     433.906  \n",
      "1    -1360.56     524.075  \n",
      "2         NaN   -1343.550  \n",
      "3         NaN    -826.727  \n",
      "4     -568.05   -1357.140  \n",
      "\n",
      "[5 rows x 30 columns]\n",
      "   Unnamed: 0  ID  20150720_N  20150602_N  20150517_N  20150501_N  20150415_N  \\\n",
      "0           0   1     7466.42     413.162     5761.00     5625.45     489.403   \n",
      "1           1   2     7235.26    6037.350     1027.56     6085.14    1618.050   \n",
      "2           2   3     7425.08    6969.980     1177.94     7408.93     861.061   \n",
      "3           3   4     7119.12    1731.620     6311.93     6441.61     465.979   \n",
      "4           4   5     7519.55    8130.260     1482.54     7879.53    1001.210   \n",
      "\n",
      "   20150330_N  20150314_N  20150226_N  ...  20140610_N  20140525_N  \\\n",
      "0     3923.84    3097.110     6766.42  ...     801.184     927.115   \n",
      "1     6668.54    2513.990     1051.69  ...    5533.470    5103.040   \n",
      "2     7644.43     814.458     1504.29  ...    1981.390    6204.540   \n",
      "3     7128.42    1649.120     6935.22  ...     959.344    5794.150   \n",
      "4     7937.60    4122.530     1094.51  ...    7636.070    6996.760   \n",
      "\n",
      "   20140509_N  20140423_N  20140407_N  20140322_N  20140218_N  20140202_N  \\\n",
      "0     4704.14     6378.42     340.949    2695.570     527.268     4736.75   \n",
      "1     5216.12     4885.27    4366.790    1234.140    3298.110     6942.68   \n",
      "2     7021.69     5704.41    4897.450    1789.990    2206.100     6928.93   \n",
      "3     1045.57     5572.90     586.287     685.906    1287.000     6734.72   \n",
      "4     7413.43     4596.13    4511.700    1413.520    3283.940     7937.68   \n",
      "\n",
      "   20140117_N  20140101_N  \n",
      "0     601.843    6639.760  \n",
      "1    1070.440     842.101  \n",
      "2    1036.560     831.441  \n",
      "3     824.584    6883.610  \n",
      "4    1857.800    1336.920  \n",
      "\n",
      "[5 rows x 29 columns]\n"
     ]
    },
    {
     "name": "stderr",
     "output_type": "stream",
     "text": [
      "/usr/local/lib/python3.11/dist-packages/pandas/io/formats/format.py:1458: RuntimeWarning: invalid value encountered in greater\n",
      "  has_large_values = (abs_vals > 1e6).any()\n",
      "/usr/local/lib/python3.11/dist-packages/pandas/io/formats/format.py:1459: RuntimeWarning: invalid value encountered in less\n",
      "  has_small_values = ((abs_vals < 10 ** (-self.digits)) & (abs_vals > 0)).any()\n",
      "/usr/local/lib/python3.11/dist-packages/pandas/io/formats/format.py:1459: RuntimeWarning: invalid value encountered in greater\n",
      "  has_small_values = ((abs_vals < 10 ** (-self.digits)) & (abs_vals > 0)).any()\n"
     ]
    }
   ],
   "source": [
    "\n",
    "\n",
    "import numpy as np # linear algebra\n",
    "import pandas as pd # data processing, CSV file I/O (e.g. pd.read_csv)\n",
    "\n",
    "train_df = pd.read_csv('/kaggle/input/summer-analytics-mid-hackathon/hacktrain.csv')\n",
    "test_df = pd.read_csv('/kaggle/input/summer-analytics-mid-hackathon/hacktest.csv')\n",
    "print(train_df.head())\n",
    "print(test_df.head())\n"
   ]
  },
  {
   "cell_type": "code",
   "execution_count": 2,
   "id": "554cbc31",
   "metadata": {
    "execution": {
     "iopub.execute_input": "2025-06-11T16:27:06.826605Z",
     "iopub.status.busy": "2025-06-11T16:27:06.826208Z",
     "iopub.status.idle": "2025-06-11T16:27:06.842971Z",
     "shell.execute_reply": "2025-06-11T16:27:06.842068Z"
    },
    "papermill": {
     "duration": 0.022131,
     "end_time": "2025-06-11T16:27:06.844725",
     "exception": false,
     "start_time": "2025-06-11T16:27:06.822594",
     "status": "completed"
    },
    "tags": []
   },
   "outputs": [
    {
     "data": {
      "text/plain": [
       "Unnamed: 0       0\n",
       "ID               0\n",
       "class            0\n",
       "20150720_N     560\n",
       "20150602_N    1200\n",
       "20150517_N     800\n",
       "20150501_N     960\n",
       "20150415_N     480\n",
       "20150330_N    1120\n",
       "20150314_N     720\n",
       "20150226_N    1360\n",
       "20150210_N     640\n",
       "20150125_N    1040\n",
       "20150109_N     880\n",
       "20141117_N    1280\n",
       "20141101_N     400\n",
       "20141016_N    1440\n",
       "20140930_N     800\n",
       "20140813_N     560\n",
       "20140626_N    1600\n",
       "20140610_N     480\n",
       "20140525_N     720\n",
       "20140509_N     880\n",
       "20140423_N    1760\n",
       "20140407_N     640\n",
       "20140322_N    1120\n",
       "20140218_N    1440\n",
       "20140202_N     560\n",
       "20140117_N    1200\n",
       "20140101_N     400\n",
       "dtype: int64"
      ]
     },
     "execution_count": 2,
     "metadata": {},
     "output_type": "execute_result"
    }
   ],
   "source": [
    "train_df.isnull().sum()\n"
   ]
  },
  {
   "cell_type": "code",
   "execution_count": 3,
   "id": "9cb6d183",
   "metadata": {
    "execution": {
     "iopub.execute_input": "2025-06-11T16:27:06.851480Z",
     "iopub.status.busy": "2025-06-11T16:27:06.851179Z",
     "iopub.status.idle": "2025-06-11T16:27:06.865880Z",
     "shell.execute_reply": "2025-06-11T16:27:06.864994Z"
    },
    "papermill": {
     "duration": 0.020035,
     "end_time": "2025-06-11T16:27:06.867638",
     "exception": false,
     "start_time": "2025-06-11T16:27:06.847603",
     "status": "completed"
    },
    "tags": []
   },
   "outputs": [],
   "source": [
    "# Drop ID column for now but store separately\n",
    "train_ids = train_df['ID']\n",
    "test_ids = test_df['ID']\n",
    "\n",
    "# Separate features and target\n",
    "X_train = train_df.drop(['ID', 'class'], axis=1)\n",
    "y_train = train_df['class']\n",
    "\n",
    "X_test = test_df.drop(['ID'],axis=1)"
   ]
  },
  {
   "cell_type": "code",
   "execution_count": 4,
   "id": "6d2c202b",
   "metadata": {
    "execution": {
     "iopub.execute_input": "2025-06-11T16:27:06.874110Z",
     "iopub.status.busy": "2025-06-11T16:27:06.873826Z",
     "iopub.status.idle": "2025-06-11T16:27:09.044744Z",
     "shell.execute_reply": "2025-06-11T16:27:09.043798Z"
    },
    "papermill": {
     "duration": 2.176159,
     "end_time": "2025-06-11T16:27:09.046531",
     "exception": false,
     "start_time": "2025-06-11T16:27:06.870372",
     "status": "completed"
    },
    "tags": []
   },
   "outputs": [],
   "source": [
    "from sklearn.impute import SimpleImputer\n",
    "\n",
    "imputer = SimpleImputer(strategy='mean')\n",
    "X_train_imputed = imputer.fit_transform(X_train)\n",
    "X_test_imputed = imputer.transform(X_test)"
   ]
  },
  {
   "cell_type": "code",
   "execution_count": 5,
   "id": "ac15d64a",
   "metadata": {
    "execution": {
     "iopub.execute_input": "2025-06-11T16:27:09.053175Z",
     "iopub.status.busy": "2025-06-11T16:27:09.052746Z",
     "iopub.status.idle": "2025-06-11T16:27:09.059235Z",
     "shell.execute_reply": "2025-06-11T16:27:09.058219Z"
    },
    "papermill": {
     "duration": 0.011424,
     "end_time": "2025-06-11T16:27:09.060804",
     "exception": false,
     "start_time": "2025-06-11T16:27:09.049380",
     "status": "completed"
    },
    "tags": []
   },
   "outputs": [],
   "source": [
    "from sklearn.preprocessing import LabelEncoder\n",
    "\n",
    "le = LabelEncoder()\n",
    "y_encoded = le.fit_transform(y_train)"
   ]
  },
  {
   "cell_type": "code",
   "execution_count": 6,
   "id": "b3735815",
   "metadata": {
    "execution": {
     "iopub.execute_input": "2025-06-11T16:27:09.067016Z",
     "iopub.status.busy": "2025-06-11T16:27:09.066700Z",
     "iopub.status.idle": "2025-06-11T16:27:09.778519Z",
     "shell.execute_reply": "2025-06-11T16:27:09.777767Z"
    },
    "papermill": {
     "duration": 0.717071,
     "end_time": "2025-06-11T16:27:09.780487",
     "exception": false,
     "start_time": "2025-06-11T16:27:09.063416",
     "status": "completed"
    },
    "tags": []
   },
   "outputs": [
    {
     "data": {
      "text/html": [
       "<style>#sk-container-id-1 {color: black;background-color: white;}#sk-container-id-1 pre{padding: 0;}#sk-container-id-1 div.sk-toggleable {background-color: white;}#sk-container-id-1 label.sk-toggleable__label {cursor: pointer;display: block;width: 100%;margin-bottom: 0;padding: 0.3em;box-sizing: border-box;text-align: center;}#sk-container-id-1 label.sk-toggleable__label-arrow:before {content: \"▸\";float: left;margin-right: 0.25em;color: #696969;}#sk-container-id-1 label.sk-toggleable__label-arrow:hover:before {color: black;}#sk-container-id-1 div.sk-estimator:hover label.sk-toggleable__label-arrow:before {color: black;}#sk-container-id-1 div.sk-toggleable__content {max-height: 0;max-width: 0;overflow: hidden;text-align: left;background-color: #f0f8ff;}#sk-container-id-1 div.sk-toggleable__content pre {margin: 0.2em;color: black;border-radius: 0.25em;background-color: #f0f8ff;}#sk-container-id-1 input.sk-toggleable__control:checked~div.sk-toggleable__content {max-height: 200px;max-width: 100%;overflow: auto;}#sk-container-id-1 input.sk-toggleable__control:checked~label.sk-toggleable__label-arrow:before {content: \"▾\";}#sk-container-id-1 div.sk-estimator input.sk-toggleable__control:checked~label.sk-toggleable__label {background-color: #d4ebff;}#sk-container-id-1 div.sk-label input.sk-toggleable__control:checked~label.sk-toggleable__label {background-color: #d4ebff;}#sk-container-id-1 input.sk-hidden--visually {border: 0;clip: rect(1px 1px 1px 1px);clip: rect(1px, 1px, 1px, 1px);height: 1px;margin: -1px;overflow: hidden;padding: 0;position: absolute;width: 1px;}#sk-container-id-1 div.sk-estimator {font-family: monospace;background-color: #f0f8ff;border: 1px dotted black;border-radius: 0.25em;box-sizing: border-box;margin-bottom: 0.5em;}#sk-container-id-1 div.sk-estimator:hover {background-color: #d4ebff;}#sk-container-id-1 div.sk-parallel-item::after {content: \"\";width: 100%;border-bottom: 1px solid gray;flex-grow: 1;}#sk-container-id-1 div.sk-label:hover label.sk-toggleable__label {background-color: #d4ebff;}#sk-container-id-1 div.sk-serial::before {content: \"\";position: absolute;border-left: 1px solid gray;box-sizing: border-box;top: 0;bottom: 0;left: 50%;z-index: 0;}#sk-container-id-1 div.sk-serial {display: flex;flex-direction: column;align-items: center;background-color: white;padding-right: 0.2em;padding-left: 0.2em;position: relative;}#sk-container-id-1 div.sk-item {position: relative;z-index: 1;}#sk-container-id-1 div.sk-parallel {display: flex;align-items: stretch;justify-content: center;background-color: white;position: relative;}#sk-container-id-1 div.sk-item::before, #sk-container-id-1 div.sk-parallel-item::before {content: \"\";position: absolute;border-left: 1px solid gray;box-sizing: border-box;top: 0;bottom: 0;left: 50%;z-index: -1;}#sk-container-id-1 div.sk-parallel-item {display: flex;flex-direction: column;z-index: 1;position: relative;background-color: white;}#sk-container-id-1 div.sk-parallel-item:first-child::after {align-self: flex-end;width: 50%;}#sk-container-id-1 div.sk-parallel-item:last-child::after {align-self: flex-start;width: 50%;}#sk-container-id-1 div.sk-parallel-item:only-child::after {width: 0;}#sk-container-id-1 div.sk-dashed-wrapped {border: 1px dashed gray;margin: 0 0.4em 0.5em 0.4em;box-sizing: border-box;padding-bottom: 0.4em;background-color: white;}#sk-container-id-1 div.sk-label label {font-family: monospace;font-weight: bold;display: inline-block;line-height: 1.2em;}#sk-container-id-1 div.sk-label-container {text-align: center;}#sk-container-id-1 div.sk-container {/* jupyter's `normalize.less` sets `[hidden] { display: none; }` but bootstrap.min.css set `[hidden] { display: none !important; }` so we also need the `!important` here to be able to override the default hidden behavior on the sphinx rendered scikit-learn.org. See: https://github.com/scikit-learn/scikit-learn/issues/21755 */display: inline-block !important;position: relative;}#sk-container-id-1 div.sk-text-repr-fallback {display: none;}</style><div id=\"sk-container-id-1\" class=\"sk-top-container\"><div class=\"sk-text-repr-fallback\"><pre>LogisticRegression(max_iter=1000, multi_class=&#x27;multinomial&#x27;)</pre><b>In a Jupyter environment, please rerun this cell to show the HTML representation or trust the notebook. <br />On GitHub, the HTML representation is unable to render, please try loading this page with nbviewer.org.</b></div><div class=\"sk-container\" hidden><div class=\"sk-item\"><div class=\"sk-estimator sk-toggleable\"><input class=\"sk-toggleable__control sk-hidden--visually\" id=\"sk-estimator-id-1\" type=\"checkbox\" checked><label for=\"sk-estimator-id-1\" class=\"sk-toggleable__label sk-toggleable__label-arrow\">LogisticRegression</label><div class=\"sk-toggleable__content\"><pre>LogisticRegression(max_iter=1000, multi_class=&#x27;multinomial&#x27;)</pre></div></div></div></div></div>"
      ],
      "text/plain": [
       "LogisticRegression(max_iter=1000, multi_class='multinomial')"
      ]
     },
     "execution_count": 6,
     "metadata": {},
     "output_type": "execute_result"
    }
   ],
   "source": [
    "from sklearn.linear_model import LogisticRegression\n",
    "from sklearn.preprocessing import StandardScaler\n",
    "\n",
    "# Normalize features\n",
    "scaler = StandardScaler()\n",
    "X_train_scaled = scaler.fit_transform(X_train_imputed)\n",
    "X_test_scaled = scaler.transform(X_test_imputed)\n",
    "\n",
    "# Train logistic regression\n",
    "model = LogisticRegression(multi_class='multinomial', solver='lbfgs', max_iter=1000)\n",
    "model.fit(X_train_scaled,y_encoded)"
   ]
  },
  {
   "cell_type": "code",
   "execution_count": 7,
   "id": "04158c96",
   "metadata": {
    "execution": {
     "iopub.execute_input": "2025-06-11T16:27:09.790208Z",
     "iopub.status.busy": "2025-06-11T16:27:09.789862Z",
     "iopub.status.idle": "2025-06-11T16:27:09.802356Z",
     "shell.execute_reply": "2025-06-11T16:27:09.801603Z"
    },
    "papermill": {
     "duration": 0.019477,
     "end_time": "2025-06-11T16:27:09.804373",
     "exception": false,
     "start_time": "2025-06-11T16:27:09.784896",
     "status": "completed"
    },
    "tags": []
   },
   "outputs": [],
   "source": [
    "preds_encoded = model.predict(X_test_scaled)\n",
    "preds_labels = le.inverse_transform(preds_encoded)"
   ]
  },
  {
   "cell_type": "code",
   "execution_count": 8,
   "id": "22872271",
   "metadata": {
    "execution": {
     "iopub.execute_input": "2025-06-11T16:27:09.815378Z",
     "iopub.status.busy": "2025-06-11T16:27:09.813611Z",
     "iopub.status.idle": "2025-06-11T16:27:09.833076Z",
     "shell.execute_reply": "2025-06-11T16:27:09.832283Z"
    },
    "papermill": {
     "duration": 0.02644,
     "end_time": "2025-06-11T16:27:09.835149",
     "exception": false,
     "start_time": "2025-06-11T16:27:09.808709",
     "status": "completed"
    },
    "tags": []
   },
   "outputs": [],
   "source": [
    "submission = pd.DataFrame({\n",
    "    'ID': test_ids,\n",
    "    'class': preds_labels\n",
    "})\n",
    "\n",
    "submission.to_csv('submission.csv',index=False)"
   ]
  }
 ],
 "metadata": {
  "kaggle": {
   "accelerator": "none",
   "dataSources": [
    {
     "databundleVersionId": 12585144,
     "sourceId": 104491,
     "sourceType": "competition"
    }
   ],
   "dockerImageVersionId": 31040,
   "isGpuEnabled": false,
   "isInternetEnabled": false,
   "language": "python",
   "sourceType": "notebook"
  },
  "kernelspec": {
   "display_name": "Python 3",
   "language": "python",
   "name": "python3"
  },
  "language_info": {
   "codemirror_mode": {
    "name": "ipython",
    "version": 3
   },
   "file_extension": ".py",
   "mimetype": "text/x-python",
   "name": "python",
   "nbconvert_exporter": "python",
   "pygments_lexer": "ipython3",
   "version": "3.11.11"
  },
  "papermill": {
   "default_parameters": {},
   "duration": 13.218822,
   "end_time": "2025-06-11T16:27:12.494799",
   "environment_variables": {},
   "exception": null,
   "input_path": "__notebook__.ipynb",
   "output_path": "__notebook__.ipynb",
   "parameters": {},
   "start_time": "2025-06-11T16:26:59.275977",
   "version": "2.6.0"
  }
 },
 "nbformat": 4,
 "nbformat_minor": 5
}
